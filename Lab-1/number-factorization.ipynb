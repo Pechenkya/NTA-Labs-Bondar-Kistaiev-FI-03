{
 "cells": [
  {
   "cell_type": "code",
   "execution_count": 16,
   "metadata": {},
   "outputs": [],
   "source": [
    "import math\n",
    "import random"
   ]
  },
  {
   "cell_type": "code",
   "execution_count": 17,
   "metadata": {},
   "outputs": [
    {
     "name": "stdout",
     "output_type": "stream",
     "text": [
      "[1, 0]\n",
      "[1, 2]\n",
      "[1, 2, 4, 3]\n",
      "[1, 2, 4]\n",
      "[1, 2, 4, 8, 5, 10, 9, 7, 3, 6]\n",
      "[1, 2, 4, 8, 3, 6, 12, 11, 9, 5, 10, 7]\n",
      "[1, 2, 4, 8, 16, 15, 13, 9]\n",
      "[1, 2, 4, 8, 16, 13, 7, 14, 9, 18, 17, 15, 11, 3, 6, 12, 5, 10]\n",
      "[1, 2, 4, 8, 16, 9, 18, 13, 3, 6, 12]\n",
      "[1, 2, 4, 8, 16, 3, 6, 12, 24, 19, 9, 18, 7, 14, 28, 27, 25, 21, 13, 26, 23, 17, 5, 10, 20, 11, 22, 15]\n",
      "[1, 2, 4, 8, 16]\n",
      "[1, 2, 4, 8, 16, 32, 27, 17, 34, 31, 25, 13, 26, 15, 30, 23, 9, 18, 36, 35, 33, 29, 21, 5, 10, 20, 3, 6, 12, 24, 11, 22, 7, 14, 28, 19]\n",
      "[1, 2, 4, 8, 16, 32, 23, 5, 10, 20, 40, 39, 37, 33, 25, 9, 18, 36, 31, 21]\n",
      "[1, 2, 4, 8, 16, 32, 21, 42, 41, 39, 35, 27, 11, 22]\n",
      "[1, 2, 4, 8, 16, 32, 17, 34, 21, 42, 37, 27, 7, 14, 28, 9, 18, 36, 25, 3, 6, 12, 24]\n"
     ]
    }
   ],
   "source": [
    "OPTIMUS_PRIMES = [2, 3, 5, 7, 11, 13, 17, 19, 23, 29, 31, 37, 41, 43, 47]\n",
    "R = {}\n",
    "\n",
    "for d in OPTIMUS_PRIMES:\n",
    "    R[d] = [1]\n",
    "    while R[d].count(R[d][-1]) < 2:\n",
    "        R[d].append((R[d][-1] * 2) % d)\n",
    "    R[d].pop()\n",
    "    print(R[d])"
   ]
  },
  {
   "cell_type": "code",
   "execution_count": 18,
   "metadata": {},
   "outputs": [
    {
     "data": {
      "text/plain": [
       "5"
      ]
     },
     "execution_count": 18,
     "metadata": {},
     "output_type": "execute_result"
    }
   ],
   "source": [
    "def petod_drobnyx_mylen(num):\n",
    "    b = bin(num)[:1:-1]\n",
    "    \n",
    "    if b[0] == '0':\n",
    "        return 2\n",
    "    \n",
    "    for d in OPTIMUS_PRIMES[1::]:\n",
    "        sum = 0\n",
    "        for i in range(len(b)):\n",
    "            sum += int(b[i]) * R[d][i % len(R[d])]\n",
    "            sum %= d\n",
    "        \n",
    "        if sum == 0:\n",
    "            return d\n",
    "\n",
    "    return 1\n",
    "\n",
    "petod_drobnyx_mylen(155)"
   ]
  },
  {
   "cell_type": "code",
   "execution_count": 19,
   "metadata": {},
   "outputs": [
    {
     "data": {
      "text/plain": [
       "97"
      ]
     },
     "execution_count": 19,
     "metadata": {},
     "output_type": "execute_result"
    }
   ],
   "source": [
    "def rho_f(x, mod):\n",
    "    return (x**2 + 1) % mod\n",
    "\n",
    "def rho_pollard(num, x_0 = 2, f = rho_f):\n",
    "    X = [f(x_0, num)]\n",
    "    Y = [f(X[0], num)]\n",
    "\n",
    "    i = 0\n",
    "    while X.count(X[i]) != 2:\n",
    "        X.append(f(X[i], num))\n",
    "        Y.append(f(f(Y[i], num), num))\n",
    "        i += 1\n",
    "\n",
    "        # print(f\"{X[i], Y[i]}\")\n",
    "        if X[i] == Y[i]:\n",
    "            return 1\n",
    "\n",
    "        d = math.gcd(num, (Y[i] - X[i]) % num)\n",
    "        if d != 1:\n",
    "            return d\n",
    "\n",
    "    return 1\n",
    "\n",
    "\n",
    "rho_pollard(8051, x_0=2)"
   ]
  },
  {
   "cell_type": "code",
   "execution_count": 20,
   "metadata": {},
   "outputs": [
    {
     "data": {
      "text/plain": [
       "-1"
      ]
     },
     "execution_count": 20,
     "metadata": {},
     "output_type": "execute_result"
    }
   ],
   "source": [
    "def jacobi(a, n):\n",
    "    a = int(a)\n",
    "    \n",
    "    if math.gcd(a, n) != 1:\n",
    "        return 0\n",
    "\n",
    "    if a == 1:\n",
    "        return 1\n",
    "\n",
    "    if a > n:\n",
    "        return jacobi(a % n, n)\n",
    "\n",
    "    if a % 2 == 0:\n",
    "        if n % 8 == 1 or n % 8 == 7:\n",
    "            return jacobi(a / 2, n)\n",
    "        else:\n",
    "            return (-1) * jacobi(a / 2, n)\n",
    "\n",
    "    if n % 4 == 1 or a % 4 == 1:\n",
    "        return jacobi(n, a)\n",
    "    else:\n",
    "        return (-1) * jacobi(n, a)\n",
    "\n",
    "\n",
    "jacobi(13, 31)"
   ]
  },
  {
   "cell_type": "code",
   "execution_count": 21,
   "metadata": {},
   "outputs": [],
   "source": [
    "def miller_rabin(num, base):\n",
    "    i = 1\n",
    "    while (num - 1) % (2 ** i) == 0:\n",
    "        i += 1\n",
    "\n",
    "    k = i - 1\n",
    "    d = (num - 1) // (2 ** k)\n",
    "\n",
    "    a_d = pow(base, d, num)\n",
    "\n",
    "    if a_d == 1:\n",
    "        return True\n",
    "    \n",
    "    a_d2i = a_d\n",
    "    for j in range(k):\n",
    "        if a_d2i == (num - 1):\n",
    "            return True\n",
    "        \n",
    "        a_d2i = (a_d2i ** 2) % num\n",
    "\n",
    "    return False\n",
    "\n",
    "\n",
    "def check_prime(num, error_prob = 0.01):\n",
    "    t = int(math.ceil(math.log(1 / error_prob, 4)))\n",
    "\n",
    "    s = 0\n",
    "    for i in range(t):\n",
    "        a = random.randrange(3, num)\n",
    "        s += int(miller_rabin(num, a))\n",
    "\n",
    "    return s > (t / 2)\n"
   ]
  },
  {
   "cell_type": "code",
   "execution_count": 22,
   "metadata": {},
   "outputs": [],
   "source": [
    "Prime_Base_Bound = 1000\n",
    "Sieving_Interval = 100\n",
    "\n",
    "def QS(num, B = Prime_Base_Bound, M = Sieving_Interval):\n",
    "    P = []\n",
    "\n",
    "    for a in range(3, B):\n",
    "        if check_prime(a):\n",
    "            if jacobi(num, a) == 1:\n",
    "                P.append(a)\n",
    "\n",
    "    S = {}\n",
    "\n",
    "    for x in range(-M, M):\n",
    "        print(1)\n"
   ]
  },
  {
   "cell_type": "code",
   "execution_count": 36,
   "metadata": {},
   "outputs": [
    {
     "name": "stdout",
     "output_type": "stream",
     "text": [
      "8k + 1\n",
      "4k + 3\n"
     ]
    },
    {
     "data": {
      "text/plain": [
       "[4902, 4580]"
      ]
     },
     "execution_count": 36,
     "metadata": {},
     "output_type": "execute_result"
    }
   ],
   "source": [
    "def sqeq_modp(a, b, c, p): # сквек\n",
    "    k = (b**2 - 4*a*c) % p\n",
    "\n",
    "    if jacobi(k, p) != 1:\n",
    "        print(\"error\")\n",
    "\n",
    "    y = sqrt_modp(k, p)\n",
    "\n",
    "    x = [0, 0]\n",
    "    x[0] = (pow(2*a, -1, p) * (y[0] - b)) % p\n",
    "    x[1] = (pow(2*a, -1, p) * (y[1] - b)) % p \n",
    "\n",
    "    return x\n",
    "\n",
    "\n",
    "def sqrt_modp(a, p):\n",
    "    if jacobi(a, p) != 1:\n",
    "        print(\"error\")\n",
    "\n",
    "    if p % 4 == 3:\n",
    "        print(\"4k + 3\")\n",
    "        sq_a = pow(a, (p + 1) // 4, p)\n",
    "        return [sq_a, p - sq_a]\n",
    "    \n",
    "    if p % 8 == 5:\n",
    "        print(\"8k + 5\")\n",
    "        k = (p - 5) // 8\n",
    "        if pow(a, 2*k + 1, p) == 1:\n",
    "            sq_a = pow(a, k + 1, p)\n",
    "        else:\n",
    "            sq_a = (pow(a, k + 1, p) * pow(2, 2*k + 1, p)) % p\n",
    "\n",
    "        return[sq_a, p - sq_a]\n",
    "    \n",
    "    if p % 8 == 1:\n",
    "        print(\"8k + 1\")\n",
    "        b = 2\n",
    "        while jacobi(b, p) != -1:\n",
    "            b = random.randrange(3, p - 1)\n",
    "\n",
    "        t_a = (p - 1) // 2\n",
    "        t_b = 0\n",
    "\n",
    "        while t_a % 2 == 0:\n",
    "            if (pow(a, t_a, p) * pow(b, t_b, p)) % p  == p - 1:\n",
    "                t_b += (p - 1) // 2\n",
    "\n",
    "            t_a = t_a // 2\n",
    "            t_b = t_b // 2\n",
    "\n",
    "        if (pow(a, t_a, p) * pow(b, t_b, p)) % p  == p - 1:\n",
    "                t_b += (p - 1) // 2\n",
    "\n",
    "        sq_a = (pow(a, (t_a + 1) // 2, p) * pow(b, t_b // 2, p)) % p\n",
    "        return[sq_a, p - sq_a]\n",
    "            \n",
    "\n",
    "sqrt_modp(943, 7793)\n",
    "sqeq_modp(5, 32, 121, 7907)"
   ]
  }
 ],
 "metadata": {
  "kernelspec": {
   "display_name": "Python 3",
   "language": "python",
   "name": "python3"
  },
  "language_info": {
   "codemirror_mode": {
    "name": "ipython",
    "version": 3
   },
   "file_extension": ".py",
   "mimetype": "text/x-python",
   "name": "python",
   "nbconvert_exporter": "python",
   "pygments_lexer": "ipython3",
   "version": "3.10.11"
  },
  "orig_nbformat": 4
 },
 "nbformat": 4,
 "nbformat_minor": 2
}
