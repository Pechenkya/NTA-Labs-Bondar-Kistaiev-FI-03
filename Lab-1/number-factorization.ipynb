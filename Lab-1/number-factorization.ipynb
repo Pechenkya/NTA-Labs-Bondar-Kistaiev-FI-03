{
 "cells": [
  {
   "cell_type": "code",
   "execution_count": null,
   "metadata": {},
   "outputs": [],
   "source": [
    "PRIME_47 = [2, 3, 5, 7, 11, 13, 17, 19, 23, 29, 31, 37, 41, 43, 47]\n",
    "\n",
    "def petod_mrobnyx_dylen(num):\n",
    "    for d in PRIME_47:\n",
    "        if num % d == 0:\n",
    "            return d\n",
    "    \n",
    "    return 1"
   ]
  }
 ],
 "metadata": {
  "language_info": {
   "name": "python"
  },
  "orig_nbformat": 4
 },
 "nbformat": 4,
 "nbformat_minor": 2
}
