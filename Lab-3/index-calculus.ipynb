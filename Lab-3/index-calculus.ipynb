{
 "cells": [
  {
   "attachments": {},
   "cell_type": "markdown",
   "metadata": {},
   "source": [
    "# Лабораторна робота 3 з Теоретико-числових алгоритмів в криптології\n",
    "## Тема: Реалiзацiя та застосування алгоритму дискретного логарифмування **index-calculus**\n",
    "\n",
    "**Варіант:** 2\\\n",
    "**Виконали:** Бондар Петро, Кістаєв Матвій\\\n",
    "**Група:** ФІ-03\n",
    "\n",
    "### Посилання\n",
    "Github: https://github.com/Pechenkya/NTA-Labs-Bondar-Kistaiev-FI-03/tree/main/Lab-3\n",
    "\n",
    "Docker image: "
   ]
  },
  {
   "cell_type": "code",
   "execution_count": 7,
   "metadata": {},
   "outputs": [],
   "source": [
    "import numpy as np\n",
    "from math import exp, sqrt, log, ceil, gcd\n",
    "import random\n",
    "\n",
    "base = 2"
   ]
  },
  {
   "attachments": {},
   "cell_type": "markdown",
   "metadata": {},
   "source": [
    "## Генеруємо факторну базу"
   ]
  },
  {
   "cell_type": "code",
   "execution_count": 8,
   "metadata": {},
   "outputs": [],
   "source": [
    "OPTIMUS_PRIMES = [2, 3, 5, 7, 11, 13, 17, 19, 23, 29, 31, 37, 41, 43, 47]\n",
    "\n",
    "def miller_rabin(num, base):\n",
    "    i = 1\n",
    "    while (num - 1) % (2 ** i) == 0:\n",
    "        i += 1\n",
    "\n",
    "    k = i - 1\n",
    "    d = (num - 1) // (2 ** k)\n",
    "\n",
    "    a_d = pow(base, d, num)\n",
    "\n",
    "    if a_d == 1:\n",
    "        return True\n",
    "    \n",
    "    a_d2i = a_d\n",
    "    for j in range(k):\n",
    "        if a_d2i == (num - 1):\n",
    "            return True\n",
    "        \n",
    "        a_d2i = (a_d2i ** 2) % num\n",
    "\n",
    "    return False\n",
    "\n",
    "\n",
    "def check_prime(num, error_prob = 0.01):\n",
    "    if OPTIMUS_PRIMES.count(num) != 0:\n",
    "        return True\n",
    "\n",
    "    t = int(ceil(log(1 / error_prob, 4)))\n",
    "    s = 0\n",
    "    for _ in range(t):\n",
    "        a = random.randrange(3, num + 1)\n",
    "        s += int(miller_rabin(num, a))\n",
    "\n",
    "    return s > (t / 2)"
   ]
  },
  {
   "cell_type": "code",
   "execution_count": 9,
   "metadata": {},
   "outputs": [],
   "source": [
    "def gen_factor_base(n):\n",
    "    c = 3.38 # recommended constant\n",
    "    B_lim = int(c * exp(0.5 * sqrt(log(n, base) * log(log(n, base), base))))\n",
    "    \n",
    "    S = []\n",
    "    for a in range(2, B_lim):\n",
    "        if check_prime(a):\n",
    "            S.append(a)\n",
    "    \n",
    "    return S"
   ]
  },
  {
   "attachments": {},
   "cell_type": "markdown",
   "metadata": {},
   "source": []
  }
 ],
 "metadata": {
  "kernelspec": {
   "display_name": "Python 3",
   "language": "python",
   "name": "python3"
  },
  "language_info": {
   "codemirror_mode": {
    "name": "ipython",
    "version": 3
   },
   "file_extension": ".py",
   "mimetype": "text/x-python",
   "name": "python",
   "nbconvert_exporter": "python",
   "pygments_lexer": "ipython3",
   "version": "3.9.13"
  },
  "orig_nbformat": 4
 },
 "nbformat": 4,
 "nbformat_minor": 2
}
