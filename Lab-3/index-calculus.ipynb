{
 "cells": [
  {
   "attachments": {},
   "cell_type": "markdown",
   "metadata": {},
   "source": [
    "# Лабораторна робота 3 з Теоретико-числових алгоритмів в криптології\n",
    "## Тема: Реалiзацiя та застосування алгоритму дискретного логарифмування **index-calculus**\n",
    "\n",
    "**Варіант:** 2\\\n",
    "**Виконали:** Бондар Петро, Кістаєв Матвій\\\n",
    "**Група:** ФІ-03\n",
    "\n",
    "### Посилання\n",
    "Github: https://github.com/Pechenkya/NTA-Labs-Bondar-Kistaiev-FI-03/tree/main/Lab-3\n",
    "\n",
    "Docker image: "
   ]
  },
  {
   "cell_type": "code",
   "execution_count": 104,
   "metadata": {},
   "outputs": [],
   "source": [
    "import numpy as np\n",
    "import time\n",
    "from math import exp, sqrt, log, gcd, e\n",
    "import random\n",
    "# Use factorization from Lab 1\n",
    "from factor_module import general_factor, check_prime"
   ]
  },
  {
   "attachments": {},
   "cell_type": "markdown",
   "metadata": {},
   "source": [
    "## Генеруємо факторну базу"
   ]
  },
  {
   "cell_type": "code",
   "execution_count": 105,
   "metadata": {},
   "outputs": [],
   "source": [
    "lb = e\n",
    "\n",
    "def gen_factor_base(n):\n",
    "    c = 3.38 # recommended constant\n",
    "    B_lim = int(c * exp(0.5 * sqrt(log(n, lb) * log(log(n, lb), lb))))\n",
    "    print(f\"Factor Base limit: {B_lim}\")\n",
    "    \n",
    "    S = []\n",
    "    for a in range(2, B_lim):\n",
    "        if check_prime(a):\n",
    "            S.append(a)\n",
    "    \n",
    "    return S"
   ]
  },
  {
   "attachments": {},
   "cell_type": "markdown",
   "metadata": {},
   "source": [
    "## Генеруємо систему порівнянь "
   ]
  },
  {
   "cell_type": "code",
   "execution_count": 106,
   "metadata": {},
   "outputs": [],
   "source": [
    "C = 15\n",
    "\n",
    "def is_smooth(val, S):\n",
    "    D = [0] * len(S)\n",
    "    for i in range(len(S)):\n",
    "        while val % S[i] == 0:\n",
    "            D[i] += 1\n",
    "            val //= S[i]\n",
    "        \n",
    "    if val != 1:\n",
    "        return [False, []]\n",
    "    else:\n",
    "        return [True, D]\n",
    "\n",
    "\n",
    "def gen_equations(a, n, S, number_of_eq=0):\n",
    "    st = time.time()\n",
    "    if number_of_eq == 0:\n",
    "        number_of_eq = len(S) + C\n",
    "\n",
    "    A = []\n",
    "    b = []\n",
    "\n",
    "    curr_power = 1\n",
    "    curr_val = a\n",
    "\n",
    "    while len(b) < number_of_eq:\n",
    "        [smooth, pows] = is_smooth(curr_val, S)\n",
    "        if smooth:\n",
    "            A.append(pows)\n",
    "            b.append(curr_power)\n",
    "\n",
    "        curr_val = (curr_val * a) % n\n",
    "        curr_power += 1\n",
    "\n",
    "        if curr_val == 1:\n",
    "            break\n",
    "    et = time.time()\n",
    "\n",
    "    print(f\"Generated equations: {len(b)}\")\n",
    "    print(f\"Generating time: {et - st} seconds\\n\")\n",
    "    return (np.array(A), np.array(b))"
   ]
  },
  {
   "cell_type": "code",
   "execution_count": 107,
   "metadata": {},
   "outputs": [],
   "source": [
    "from multiprocessing import Process, Manager\n",
    "Subprocesses = 2\n",
    "\n",
    "def equation_subprocess(a, n, S, start_power, A_shared, b_shared, number_of_eq):\n",
    "    print(\"Started subprocess\")\n",
    "    curr_power = start_power\n",
    "    curr_val = pow(a, start_power, n)\n",
    "\n",
    "    while len(b_shared) < number_of_eq:\n",
    "        [smooth, pows] = is_smooth(curr_val, S)\n",
    "        if smooth:\n",
    "            A_shared.append(pows)\n",
    "            b_shared.append(curr_power)\n",
    "\n",
    "        curr_val = (curr_val * a) % n\n",
    "        curr_power += 1\n",
    "\n",
    "        if curr_val == 1:\n",
    "            break\n",
    "\n",
    "def gen_equations_parallel(a, n, S, number_of_eq=0):\n",
    "    st = time.time()\n",
    "    if number_of_eq == 0:\n",
    "        number_of_eq = len(S) + C\n",
    "\n",
    "    with Manager() as manager:\n",
    "        A_shared = manager.list()\n",
    "        b_shared = manager.list()\n",
    "\n",
    "        pow_step = (n-1) // Subprocesses\n",
    "        pow_start = 1\n",
    "        p_handles = []\n",
    "        # Start processes\n",
    "        for _ in range(Subprocesses):\n",
    "            p_handles.append(Process(target=equation_subprocess, args=(a, n, S, pow_start, A_shared, b_shared, number_of_eq)))\n",
    "            p_handles[-1].run()\n",
    "            p_handles[-1].start()\n",
    "            pow_start += pow_step\n",
    "\n",
    "        for i in range(Subprocesses):\n",
    "            p_handles[i].join()\n",
    "        et = time.time()\n",
    "\n",
    "        print(f\"Generated equations: {len(b_shared)}\")\n",
    "        print(f\"Generating time: {et - st} seconds\\n\")\n",
    "        return (np.array(A_shared), np.array(b_shared))"
   ]
  },
  {
   "attachments": {},
   "cell_type": "markdown",
   "metadata": {},
   "source": [
    "## Розв'язування системи лінійних порівнянь за модулем"
   ]
  },
  {
   "cell_type": "code",
   "execution_count": 108,
   "metadata": {},
   "outputs": [],
   "source": [
    "def solve_modular_eq(A_in, b, mod):\n",
    "    # Create system of Linear Diophante eq by appending new unknowns\n",
    "    m = len(A_in[0])\n",
    "    n = len(A_in)\n",
    "    # M = mod * np.identity(len(A_in), dtype=int)\n",
    "    A = np.concatenate([A_in, np.transpose([b])], axis=1)\n",
    "\n",
    "    chosen = []\n",
    "    # Gauss elimination\n",
    "    for j in range(m):\n",
    "        for i in range(n):\n",
    "            if chosen.count(i) == 0 and gcd(A[i][j], mod) == 1:\n",
    "                chosen.append(i)\n",
    "\n",
    "                inv = pow(int(A[i][j]), -1, mod)\n",
    "                A[i] = (A[i] * inv) % mod\n",
    "\n",
    "                for k in range(n):\n",
    "                    if k != i and A[k][j] != 0:\n",
    "                        A[k] = (A[k] - A[k][j]*A[i]) % mod\n",
    "    \n",
    "    # for i in range(A)\n",
    "    print(A)"
   ]
  },
  {
   "attachments": {},
   "cell_type": "markdown",
   "metadata": {},
   "source": [
    "## Знаходимо відповідний $\\log_\\alpha \\beta$"
   ]
  },
  {
   "cell_type": "code",
   "execution_count": 109,
   "metadata": {},
   "outputs": [],
   "source": [
    "def find_index_sequential_comparing(a, beta, n, S, A, b):\n",
    "    curr_ind = 0\n",
    "    curr_val = beta\n",
    "\n",
    "    A_list = A.tolist()\n",
    "    for _ in range(n-1):\n",
    "        [smooth, pows] = is_smooth(curr_val, S)\n",
    "        if smooth and A_list.count(pows) != 0:\n",
    "            corr_a_ind = b[A_list.index(pows)]\n",
    "            return (corr_a_ind - curr_ind) % (n - 1)\n",
    "        \n",
    "        curr_ind += 1\n",
    "        curr_val = (curr_val * a) % n\n",
    "\n",
    "    raise RuntimeError(\"Can't find index!\")\n",
    "\n",
    "def find_index(a, beta, n, S, S_idxs):\n",
    "    curr_ind = 0\n",
    "    curr_val = beta\n",
    "\n",
    "    for _ in range(n-1):\n",
    "        [smooth, pows] = is_smooth(curr_val, S)\n",
    "        if smooth:\n",
    "            corr_a_ind = np.dot(S_idxs, pows)\n",
    "            return (corr_a_ind - curr_ind) % (n - 1)\n",
    "        \n",
    "        curr_ind += 1\n",
    "        curr_val = (curr_val * a) % n\n",
    "\n",
    "    raise RuntimeError(\"Can't find index!\")\n",
    "\n"
   ]
  },
  {
   "attachments": {},
   "cell_type": "markdown",
   "metadata": {},
   "source": [
    "## Загальний алгоритм розв'язання"
   ]
  },
  {
   "cell_type": "code",
   "execution_count": 110,
   "metadata": {},
   "outputs": [
    {
     "name": "stdout",
     "output_type": "stream",
     "text": [
      "Factor Base limit: 9\n",
      "Generated equations: 19\n",
      "Generating time: 0.0 seconds\n",
      "\n",
      "[[ 1  0  0  0  1]\n",
      " [ 0  0  0  0  0]\n",
      " [ 0  0  0  0  0]\n",
      " [ 0  0  0  0  0]\n",
      " [ 0  0  0  0  0]\n",
      " [ 0  0  0  0  0]\n",
      " [ 0  0  0  0  0]\n",
      " [ 0  1  0  0 26]\n",
      " [ 0  0  0  0  0]\n",
      " [ 0  0  0  0  0]\n",
      " [ 0  0  0  0  0]\n",
      " [ 0  0  0  0  0]\n",
      " [ 0  0  1  0 23]\n",
      " [ 0  0  0  0  0]\n",
      " [ 0  0  0  1 32]\n",
      " [ 0  0  0  0  0]\n",
      " [ 0  0  0  0  0]\n",
      " [ 0  0  0  0  0]\n",
      " [ 0  0  0  0  0]]\n"
     ]
    },
    {
     "ename": "TypeError",
     "evalue": "unsupported operand type(s) for *: 'NoneType' and 'int'",
     "output_type": "error",
     "traceback": [
      "\u001b[1;31m---------------------------------------------------------------------------\u001b[0m",
      "\u001b[1;31mTypeError\u001b[0m                                 Traceback (most recent call last)",
      "\u001b[1;32md:\\dev\\NTA-Labs-Bondar-Kistaiev-FI-03\\Lab-3\\index-calculus.ipynb Cell 13\u001b[0m in \u001b[0;36m1\n\u001b[0;32m     <a href='vscode-notebook-cell:/d%3A/dev/NTA-Labs-Bondar-Kistaiev-FI-03/Lab-3/index-calculus.ipynb#X15sZmlsZQ%3D%3D?line=10'>11</a>\u001b[0m     res \u001b[39m=\u001b[39m find_index(alpha, beta, n, Base, S_idxs)\n\u001b[0;32m     <a href='vscode-notebook-cell:/d%3A/dev/NTA-Labs-Bondar-Kistaiev-FI-03/Lab-3/index-calculus.ipynb#X15sZmlsZQ%3D%3D?line=11'>12</a>\u001b[0m     \u001b[39mreturn\u001b[39;00m res\n\u001b[1;32m---> <a href='vscode-notebook-cell:/d%3A/dev/NTA-Labs-Bondar-Kistaiev-FI-03/Lab-3/index-calculus.ipynb#X15sZmlsZQ%3D%3D?line=13'>14</a>\u001b[0m solve(\u001b[39m2\u001b[39;49m, \u001b[39m13\u001b[39;49m, \u001b[39m37\u001b[39;49m)\n",
      "\u001b[1;32md:\\dev\\NTA-Labs-Bondar-Kistaiev-FI-03\\Lab-3\\index-calculus.ipynb Cell 13\u001b[0m in \u001b[0;36m1\n\u001b[0;32m      <a href='vscode-notebook-cell:/d%3A/dev/NTA-Labs-Bondar-Kistaiev-FI-03/Lab-3/index-calculus.ipynb#X15sZmlsZQ%3D%3D?line=8'>9</a>\u001b[0m A, b \u001b[39m=\u001b[39m gen_equations(alpha, n, Base)\n\u001b[0;32m     <a href='vscode-notebook-cell:/d%3A/dev/NTA-Labs-Bondar-Kistaiev-FI-03/Lab-3/index-calculus.ipynb#X15sZmlsZQ%3D%3D?line=9'>10</a>\u001b[0m S_idxs \u001b[39m=\u001b[39m solve_modular_eq(A, b, n \u001b[39m-\u001b[39m \u001b[39m1\u001b[39m)\n\u001b[1;32m---> <a href='vscode-notebook-cell:/d%3A/dev/NTA-Labs-Bondar-Kistaiev-FI-03/Lab-3/index-calculus.ipynb#X15sZmlsZQ%3D%3D?line=10'>11</a>\u001b[0m res \u001b[39m=\u001b[39m find_index(alpha, beta, n, Base, S_idxs)\n\u001b[0;32m     <a href='vscode-notebook-cell:/d%3A/dev/NTA-Labs-Bondar-Kistaiev-FI-03/Lab-3/index-calculus.ipynb#X15sZmlsZQ%3D%3D?line=11'>12</a>\u001b[0m \u001b[39mreturn\u001b[39;00m res\n",
      "\u001b[1;32md:\\dev\\NTA-Labs-Bondar-Kistaiev-FI-03\\Lab-3\\index-calculus.ipynb Cell 13\u001b[0m in \u001b[0;36m2\n\u001b[0;32m     <a href='vscode-notebook-cell:/d%3A/dev/NTA-Labs-Bondar-Kistaiev-FI-03/Lab-3/index-calculus.ipynb#X15sZmlsZQ%3D%3D?line=21'>22</a>\u001b[0m [smooth, pows] \u001b[39m=\u001b[39m is_smooth(curr_val, S)\n\u001b[0;32m     <a href='vscode-notebook-cell:/d%3A/dev/NTA-Labs-Bondar-Kistaiev-FI-03/Lab-3/index-calculus.ipynb#X15sZmlsZQ%3D%3D?line=22'>23</a>\u001b[0m \u001b[39mif\u001b[39;00m smooth:\n\u001b[1;32m---> <a href='vscode-notebook-cell:/d%3A/dev/NTA-Labs-Bondar-Kistaiev-FI-03/Lab-3/index-calculus.ipynb#X15sZmlsZQ%3D%3D?line=23'>24</a>\u001b[0m     corr_a_ind \u001b[39m=\u001b[39m np\u001b[39m.\u001b[39;49mdot(S_idxs, pows)\n\u001b[0;32m     <a href='vscode-notebook-cell:/d%3A/dev/NTA-Labs-Bondar-Kistaiev-FI-03/Lab-3/index-calculus.ipynb#X15sZmlsZQ%3D%3D?line=24'>25</a>\u001b[0m     \u001b[39mreturn\u001b[39;00m (corr_a_ind \u001b[39m-\u001b[39m curr_ind) \u001b[39m%\u001b[39m (n \u001b[39m-\u001b[39m \u001b[39m1\u001b[39m)\n\u001b[0;32m     <a href='vscode-notebook-cell:/d%3A/dev/NTA-Labs-Bondar-Kistaiev-FI-03/Lab-3/index-calculus.ipynb#X15sZmlsZQ%3D%3D?line=26'>27</a>\u001b[0m curr_ind \u001b[39m+\u001b[39m\u001b[39m=\u001b[39m \u001b[39m1\u001b[39m\n",
      "File \u001b[1;32m<__array_function__ internals>:180\u001b[0m, in \u001b[0;36mdot\u001b[1;34m(*args, **kwargs)\u001b[0m\n",
      "\u001b[1;31mTypeError\u001b[0m: unsupported operand type(s) for *: 'NoneType' and 'int'"
     ]
    }
   ],
   "source": [
    "def solve_brute(alpha, beta, n):\n",
    "    Base = gen_factor_base(n)\n",
    "    A, b = gen_equations(alpha, n, Base)\n",
    "    res = find_index_sequential_comparing(alpha, beta, n, Base, A, b)\n",
    "    return res\n",
    "\n",
    "def solve(alpha, beta, n):\n",
    "    Base = gen_factor_base(n)\n",
    "    A, b = gen_equations(alpha, n, [2,3,5])\n",
    "    S_idxs = solve_modular_eq(A, b, n - 1)\n",
    "    res = find_index(alpha, beta, n, Base, S_idxs)\n",
    "    return res\n",
    "\n",
    "solve(2, 13, 37)"
   ]
  }
 ],
 "metadata": {
  "kernelspec": {
   "display_name": "Python 3",
   "language": "python",
   "name": "python3"
  },
  "language_info": {
   "codemirror_mode": {
    "name": "ipython",
    "version": 3
   },
   "file_extension": ".py",
   "mimetype": "text/x-python",
   "name": "python",
   "nbconvert_exporter": "python",
   "pygments_lexer": "ipython3",
   "version": "3.9.13"
  },
  "orig_nbformat": 4
 },
 "nbformat": 4,
 "nbformat_minor": 2
}
