{
 "cells": [
  {
   "attachments": {},
   "cell_type": "markdown",
   "metadata": {},
   "source": [
    "# Лабораторна робота 3 з Теоретико-числових алгоритмів в криптології\n",
    "## Тема: Реалiзацiя та застосування алгоритму дискретного логарифмування **index-calculus**\n",
    "\n",
    "**Варіант:** 2\\\n",
    "**Виконали:** Бондар Петро, Кістаєв Матвій\\\n",
    "**Група:** ФІ-03\n",
    "\n",
    "### Посилання\n",
    "Github: https://github.com/Pechenkya/NTA-Labs-Bondar-Kistaiev-FI-03/tree/main/Lab-3\n",
    "\n",
    "Docker image: "
   ]
  },
  {
   "cell_type": "code",
   "execution_count": 671,
   "metadata": {},
   "outputs": [],
   "source": [
    "import numpy as np\n",
    "import time\n",
    "from math import exp, sqrt, log, gcd, e\n",
    "import random\n",
    "# Use factorization from Lab 1\n",
    "from factor_module import general_factor, check_prime"
   ]
  },
  {
   "attachments": {},
   "cell_type": "markdown",
   "metadata": {},
   "source": [
    "## Генеруємо факторну базу"
   ]
  },
  {
   "cell_type": "code",
   "execution_count": 672,
   "metadata": {},
   "outputs": [],
   "source": [
    "lb = e\n",
    "\n",
    "def gen_factor_base(n):\n",
    "    c = 3.38 # recommended constant\n",
    "    B_lim = int(c * exp(0.5 * sqrt(log(n, lb) * log(log(n, lb), lb))))\n",
    "    print(f\"Factor Base limit: {B_lim}\")\n",
    "    \n",
    "    S = []\n",
    "    for a in range(2, B_lim):\n",
    "        if check_prime(a):\n",
    "            S.append(a)\n",
    "    \n",
    "    return S"
   ]
  },
  {
   "attachments": {},
   "cell_type": "markdown",
   "metadata": {},
   "source": [
    "## Генеруємо систему порівнянь "
   ]
  },
  {
   "cell_type": "code",
   "execution_count": 673,
   "metadata": {},
   "outputs": [],
   "source": [
    "C = 15\n",
    "\n",
    "def is_smooth(val, S):\n",
    "    D = [0] * len(S)\n",
    "    for i in range(len(S)):\n",
    "        while val % S[i] == 0:\n",
    "            D[i] += 1\n",
    "            val //= S[i]\n",
    "        \n",
    "    if val != 1:\n",
    "        return [False, []]\n",
    "    else:\n",
    "        return [True, D]\n",
    "\n",
    "\n",
    "def gen_equations(a, n, S, number_of_eq=0):\n",
    "    st = time.time()\n",
    "    if number_of_eq == 0:\n",
    "        number_of_eq = len(S) + C\n",
    "\n",
    "    A = []\n",
    "    b = []\n",
    "\n",
    "    curr_power = 1\n",
    "    curr_val = a\n",
    "\n",
    "    while len(b) < number_of_eq:\n",
    "        [smooth, pows] = is_smooth(curr_val, S)\n",
    "        if smooth:\n",
    "            A.append(pows)\n",
    "            b.append(curr_power)\n",
    "\n",
    "        curr_val = (curr_val * a) % n\n",
    "        curr_power += 1\n",
    "\n",
    "        if curr_val == 1:\n",
    "            break\n",
    "    et = time.time()\n",
    "\n",
    "    print(f\"Generated equations: {len(b)}\")\n",
    "    print(f\"Generating time: {et - st} seconds\\n\")\n",
    "    return (np.array(A), np.array(b))"
   ]
  },
  {
   "cell_type": "code",
   "execution_count": 674,
   "metadata": {},
   "outputs": [],
   "source": [
    "from multiprocessing import Process, Manager\n",
    "Subprocesses = 2\n",
    "\n",
    "def equation_subprocess(a, n, S, start_power, A_shared, b_shared, number_of_eq):\n",
    "    print(\"Started subprocess\")\n",
    "    curr_power = start_power\n",
    "    curr_val = pow(a, start_power, n)\n",
    "\n",
    "    while len(b_shared) < number_of_eq:\n",
    "        [smooth, pows] = is_smooth(curr_val, S)\n",
    "        if smooth:\n",
    "            A_shared.append(pows)\n",
    "            b_shared.append(curr_power)\n",
    "\n",
    "        curr_val = (curr_val * a) % n\n",
    "        curr_power += 1\n",
    "\n",
    "        if curr_val == 1:\n",
    "            break\n",
    "\n",
    "def gen_equations_parallel(a, n, S, number_of_eq=0):\n",
    "    st = time.time()\n",
    "    if number_of_eq == 0:\n",
    "        number_of_eq = len(S) + C\n",
    "\n",
    "    with Manager() as manager:\n",
    "        A_shared = manager.list()\n",
    "        b_shared = manager.list()\n",
    "\n",
    "        pow_step = (n-1) // Subprocesses\n",
    "        pow_start = 1\n",
    "        p_handles = []\n",
    "        # Start processes\n",
    "        for _ in range(Subprocesses):\n",
    "            p_handles.append(Process(target=equation_subprocess, args=(a, n, S, pow_start, A_shared, b_shared, number_of_eq)))\n",
    "            p_handles[-1].run()\n",
    "            p_handles[-1].start()\n",
    "            pow_start += pow_step\n",
    "\n",
    "        for i in range(Subprocesses):\n",
    "            p_handles[i].join()\n",
    "        et = time.time()\n",
    "\n",
    "        print(f\"Generated equations: {len(b_shared)}\")\n",
    "        print(f\"Generating time: {et - st} seconds\\n\")\n",
    "        return (np.array(A_shared), np.array(b_shared))"
   ]
  },
  {
   "attachments": {},
   "cell_type": "markdown",
   "metadata": {},
   "source": [
    "## Розв'язування системи лінійних порівнянь за модулем"
   ]
  },
  {
   "cell_type": "code",
   "execution_count": 675,
   "metadata": {},
   "outputs": [],
   "source": [
    "def solve_modular_eq(A_in, b, mod):\n",
    "    # Create system of Linear Diophante eq by appending new unknowns\n",
    "    m = len(A_in[0])\n",
    "    n = len(A_in)\n",
    "    A = np.concatenate([A_in, np.transpose([b])], axis=1, dtype='object')\n",
    "\n",
    "    chosen = []\n",
    "\n",
    "    additional_shift = {}\n",
    "    # Gauss elimination\n",
    "    for j in range(m):\n",
    "        found = False\n",
    "        for i in range(n):\n",
    "            if chosen.count(i) != 0:\n",
    "                continue\n",
    "\n",
    "            if gcd(A[i][j], mod) == 1:\n",
    "                chosen.append(i)\n",
    "                found = True\n",
    "\n",
    "                inv = pow(A[i][j], -1, mod)\n",
    "                A[i] = A[i] * inv % mod\n",
    "                \n",
    "                for k in range(n):\n",
    "                    if k != i and A[k][j] != 0:\n",
    "                        A[k] = (A[k] - A[k][j]*A[i]) % mod\n",
    "                \n",
    "                break\n",
    "        \n",
    "        # if not found:\n",
    "        #     for i in range(n):\n",
    "        #         if chosen.count(i) != 0 or A[i][j] == 0:\n",
    "        #             continue\n",
    "\n",
    "        #         d = gcd(A[i][j], mod)\n",
    "        #         if np.all(A[i] % d == 0):\n",
    "        #             chosen.append(i)\n",
    "        #             A[i] //= d\n",
    "\n",
    "        #             inv = pow(A[i][j], -1, mod)\n",
    "        #             A[i] = A[i] * inv % mod\n",
    "        #             for k in range(n):\n",
    "        #                 if k != i and A[k][j] != 0:\n",
    "        #                     A[k] = (A[k] - A[k][j]*A[i]) % mod\n",
    "        #             break\n",
    "\n",
    "    print(A)\n",
    "    solution = []\n",
    "    for j in range(m):\n",
    "        added = False\n",
    "        for i in range(n):\n",
    "            if A[i][j] != 0:\n",
    "                solution.append(A[i][-1])\n",
    "                added = True\n",
    "                break\n",
    "        if not added:\n",
    "            solution.append(0)\n",
    "    \n",
    "\n",
    "\n",
    "    return np.array(solution)"
   ]
  },
  {
   "attachments": {},
   "cell_type": "markdown",
   "metadata": {},
   "source": [
    "## Знаходимо відповідний $\\log_\\alpha \\beta$"
   ]
  },
  {
   "cell_type": "code",
   "execution_count": 676,
   "metadata": {},
   "outputs": [],
   "source": [
    "def find_index_sequential_comparing(a, beta, n, S, A, b):\n",
    "    curr_ind = 0\n",
    "    curr_val = beta\n",
    "\n",
    "    A_list = A.tolist()\n",
    "    for _ in range(n-1):\n",
    "        [smooth, pows] = is_smooth(curr_val, S)\n",
    "        if smooth and A_list.count(pows) != 0:\n",
    "            corr_a_ind = b[A_list.index(pows)]\n",
    "            return (corr_a_ind - curr_ind) % (n - 1)\n",
    "        \n",
    "        curr_ind += 1\n",
    "        curr_val = (curr_val * a) % n\n",
    "\n",
    "    raise RuntimeError(\"Can't find index!\")\n",
    "\n",
    "def find_index(a, beta, n, S, S_idxs):\n",
    "    curr_ind = 0\n",
    "    curr_val = beta\n",
    "\n",
    "    for _ in range(n-1):\n",
    "        [smooth, pows] = is_smooth(curr_val, S)\n",
    "        if smooth:\n",
    "            corr_a_ind = np.dot(S_idxs, pows)\n",
    "            return (corr_a_ind - curr_ind) % (n - 1)\n",
    "        \n",
    "        curr_ind += 1\n",
    "        curr_val = (curr_val * a) % n\n",
    "\n",
    "    raise RuntimeError(\"Can't find index!\")\n",
    "\n"
   ]
  },
  {
   "attachments": {},
   "cell_type": "markdown",
   "metadata": {},
   "source": [
    "## Загальний алгоритм розв'язання"
   ]
  },
  {
   "cell_type": "code",
   "execution_count": 677,
   "metadata": {},
   "outputs": [
    {
     "name": "stdout",
     "output_type": "stream",
     "text": [
      "Factor Base limit: 148\n",
      "Generated equations: 49\n",
      "Generating time: 0.015998125076293945 seconds\n",
      "\n",
      "[[1 0 0 ... 0 0 75582286]\n",
      " [0 0 1 ... 0 0 13793849]\n",
      " [0 0 0 ... 0 0 208922851]\n",
      " ...\n",
      " [0 0 0 ... 0 0 0]\n",
      " [0 0 0 ... 0 0 0]\n",
      " [0 0 0 ... 0 0 0]]\n"
     ]
    },
    {
     "data": {
      "text/plain": [
       "125373848"
      ]
     },
     "execution_count": 677,
     "metadata": {},
     "output_type": "execute_result"
    }
   ],
   "source": [
    "def solve_brute(alpha, beta, n):\n",
    "    Base = gen_factor_base(n)\n",
    "    A, b = gen_equations(alpha, n, Base)\n",
    "    res = find_index_sequential_comparing(alpha, beta, n, Base, A, b)\n",
    "    return res\n",
    "\n",
    "def solve(alpha, beta, n):\n",
    "    Base = gen_factor_base(n)\n",
    "    A, b = gen_equations(alpha, n, Base)\n",
    "    S_idxs = solve_modular_eq(A, b, n - 1)\n",
    "    res = find_index(alpha, beta, n, Base, S_idxs)\n",
    "    return res\n",
    "\n",
    "st = time.time()\n",
    "res = solve(178382062, 97832950, 648302563)\n",
    "et = time.time()\n",
    "\n",
    "res"
   ]
  }
 ],
 "metadata": {
  "kernelspec": {
   "display_name": "Python 3",
   "language": "python",
   "name": "python3"
  },
  "language_info": {
   "codemirror_mode": {
    "name": "ipython",
    "version": 3
   },
   "file_extension": ".py",
   "mimetype": "text/x-python",
   "name": "python",
   "nbconvert_exporter": "python",
   "pygments_lexer": "ipython3",
   "version": "3.9.13"
  },
  "orig_nbformat": 4
 },
 "nbformat": 4,
 "nbformat_minor": 2
}
