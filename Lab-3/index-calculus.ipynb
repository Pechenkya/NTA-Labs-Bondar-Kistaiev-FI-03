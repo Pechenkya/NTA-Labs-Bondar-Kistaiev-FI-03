{
 "cells": [
  {
   "attachments": {},
   "cell_type": "markdown",
   "metadata": {},
   "source": [
    "# Лабораторна робота 3 з Теоретико-числових алгоритмів в криптології\n",
    "## Тема: Реалiзацiя та застосування алгоритму дискретного логарифмування **index-calculus**\n",
    "\n",
    "**Варіант:** 2\\\n",
    "**Виконали:** Бондар Петро, Кістаєв Матвій\\\n",
    "**Група:** ФІ-03\n",
    "\n",
    "### Посилання\n",
    "Github: https://github.com/Pechenkya/NTA-Labs-Bondar-Kistaiev-FI-03/tree/main/Lab-3\n",
    "\n",
    "Docker image: "
   ]
  },
  {
   "cell_type": "code",
   "execution_count": 230,
   "metadata": {},
   "outputs": [],
   "source": [
    "import numpy as np\n",
    "from math import exp, sqrt, log, ceil, gcd\n",
    "import random\n",
    "# Use factorization from Lab 1\n",
    "from factor_module import general_factor, check_prime\n",
    "\n",
    "base = 2"
   ]
  },
  {
   "attachments": {},
   "cell_type": "markdown",
   "metadata": {},
   "source": [
    "## Генеруємо факторну базу"
   ]
  },
  {
   "cell_type": "code",
   "execution_count": 231,
   "metadata": {},
   "outputs": [],
   "source": [
    "def gen_factor_base(n):\n",
    "    c = 3.38 # recommended constant\n",
    "    B_lim = int(c * exp(0.5 * sqrt(log(n, base) * log(log(n, base), base))))\n",
    "    \n",
    "    S = []\n",
    "    for a in range(2, B_lim):\n",
    "        if check_prime(a):\n",
    "            S.append(a)\n",
    "    \n",
    "    return S"
   ]
  },
  {
   "attachments": {},
   "cell_type": "markdown",
   "metadata": {},
   "source": [
    "## Генеруємо систему порівнянь "
   ]
  },
  {
   "cell_type": "code",
   "execution_count": 232,
   "metadata": {},
   "outputs": [],
   "source": [
    "C = 15\n",
    "\n",
    "def is_smooth(val, S):\n",
    "    D = [0] * len(S)\n",
    "    for i in range(len(S)):\n",
    "        while val % S[i] == 0:\n",
    "            D[i] += 1\n",
    "            val //= S[i]\n",
    "        \n",
    "    if val != 1:\n",
    "        return [False, []]\n",
    "    else:\n",
    "        return [True, D]\n",
    "\n",
    "\n",
    "def gen_equations(a, n, S, number_of_eq=0):\n",
    "    if number_of_eq == 0:\n",
    "        number_of_eq = len(S) + C\n",
    "\n",
    "    A = []\n",
    "    b = []\n",
    "\n",
    "    curr_power = 1\n",
    "    curr_val = a\n",
    "\n",
    "    while len(b) < number_of_eq:\n",
    "        [smooth, pows] = is_smooth(curr_val, S)\n",
    "        if smooth:\n",
    "            A.append(pows)\n",
    "            b.append(curr_power)\n",
    "\n",
    "        curr_val = (curr_val * a) % n\n",
    "        curr_power += 1\n",
    "\n",
    "        if curr_val == 1:\n",
    "            break\n",
    "    \n",
    "    print(f\"Generated equations: {len(b)}\")\n",
    "    return (np.array(A), np.array(b))"
   ]
  },
  {
   "cell_type": "code",
   "execution_count": null,
   "metadata": {},
   "outputs": [],
   "source": [
    "from multiprocessing import Pool\n",
    "\n",
    "def append_equation():\n",
    "\n",
    "def gen_equations_parallel(a, n, S, number_of_eq=0):\n",
    "    if number_of_eq == 0:\n",
    "        number_of_eq = len(S) + C\n",
    "\n",
    "    A = []\n",
    "    b = []\n",
    "\n",
    "    curr_power = 1\n",
    "    curr_val = a\n",
    "\n",
    "    with Pool() as pool:\n",
    "      result = pool.map(is_smooth, pow(2, [], n))"
   ]
  },
  {
   "attachments": {},
   "cell_type": "markdown",
   "metadata": {},
   "source": [
    "## Розв'язування системи лінійних порівнянь за модулем"
   ]
  },
  {
   "cell_type": "code",
   "execution_count": 233,
   "metadata": {},
   "outputs": [],
   "source": [
    "def solve_modular_eq(A_in, b, m):\n",
    "    # Create system of Linear Diophante eq by appending new unknowns\n",
    "    M = m * np.identity(len(A_in), dtype=int)\n",
    "    A = np.concatenate([A_in, M], axis=1)\n",
    "    print(A)"
   ]
  },
  {
   "attachments": {},
   "cell_type": "markdown",
   "metadata": {},
   "source": [
    "## Знаходимо відповідний $\\log_\\alpha \\beta$"
   ]
  },
  {
   "cell_type": "code",
   "execution_count": 234,
   "metadata": {},
   "outputs": [],
   "source": [
    "def find_index_sequential_comparing(a, beta, n, S, A, b):\n",
    "    curr_ind = 0\n",
    "    curr_val = beta\n",
    "\n",
    "    A_list = A.tolist()\n",
    "    for _ in range(n-1):\n",
    "        [smooth, pows] = is_smooth(curr_val, S)\n",
    "        if smooth and A_list.count(pows) != 0:\n",
    "            corr_a_ind = b[A_list.index(pows)]\n",
    "            return (corr_a_ind - curr_ind) % (n - 1)\n",
    "        \n",
    "        curr_ind += 1\n",
    "        curr_val = (curr_val * a) % n\n",
    "\n",
    "    raise RuntimeError(\"Can't find index!\")\n",
    "\n",
    "def find_index(a, beta, n, S, S_idxs):\n",
    "    curr_ind = 0\n",
    "    curr_val = beta\n",
    "\n",
    "    for _ in range(n-1):\n",
    "        [smooth, pows] = is_smooth(curr_val, S)\n",
    "        if smooth:\n",
    "            corr_a_ind = np.dot(S_idxs, pows)\n",
    "            return (corr_a_ind - curr_ind) % (n - 1)\n",
    "        \n",
    "        curr_ind += 1\n",
    "        curr_val = (curr_val * a) % n\n",
    "\n",
    "    raise RuntimeError(\"Can't find index!\")\n",
    "\n"
   ]
  },
  {
   "cell_type": "code",
   "execution_count": 240,
   "metadata": {},
   "outputs": [
    {
     "name": "stdout",
     "output_type": "stream",
     "text": [
      "Generated equations: 165\n"
     ]
    },
    {
     "data": {
      "text/plain": [
       "36773395"
      ]
     },
     "execution_count": 240,
     "metadata": {},
     "output_type": "execute_result"
    }
   ],
   "source": [
    "def solve_brute(alpha, beta, n):\n",
    "    Base = gen_factor_base(n)\n",
    "    A, b = gen_equations(alpha, n, Base)\n",
    "    res = find_index_sequential_comparing(alpha, beta, n, Base, A, b)\n",
    "    return res\n",
    "\n",
    "solve_brute(36237829, 46148350, 77875409)"
   ]
  }
 ],
 "metadata": {
  "kernelspec": {
   "display_name": "Python 3",
   "language": "python",
   "name": "python3"
  },
  "language_info": {
   "codemirror_mode": {
    "name": "ipython",
    "version": 3
   },
   "file_extension": ".py",
   "mimetype": "text/x-python",
   "name": "python",
   "nbconvert_exporter": "python",
   "pygments_lexer": "ipython3",
   "version": "3.9.13"
  },
  "orig_nbformat": 4
 },
 "nbformat": 4,
 "nbformat_minor": 2
}
