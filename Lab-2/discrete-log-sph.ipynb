{
 "cells": [
  {
   "attachments": {},
   "cell_type": "markdown",
   "metadata": {},
   "source": [
    "# Лабораторна робота 2 з Теоретико-числових алгоритмів в криптології\n",
    "## Тема: Реалiзацiя та застосування алгоритму дискретного логарифмування **Silver–Pohlig–Hellman**\n",
    "\n",
    "**Виконали:** Бондар Петро, Кістаєв Матвій\\\n",
    "**Група:** ФІ-03\n",
    "\n",
    "### Посилання\n",
    "Github: https://github.com/Pechenkya/NTA-Labs-Bondar-Kistaiev-FI-03/tree/main/Lab-2\n",
    "\n",
    "Docker image: https://hub.docker.com/r/petrob2003/nta_lab-2_bondar_kistaiev"
   ]
  },
  {
   "cell_type": "code",
   "execution_count": 57,
   "metadata": {},
   "outputs": [],
   "source": [
    "import math\n",
    "\n",
    "from factor_module import check_prime"
   ]
  },
  {
   "attachments": {},
   "cell_type": "markdown",
   "metadata": {},
   "source": [
    "## Допоміжні математичні функції"
   ]
  },
  {
   "attachments": {},
   "cell_type": "markdown",
   "metadata": {},
   "source": [
    "#### Алгоритм розв'язання системи порівнянь по модулю за Китайською Теоремою про Лишки"
   ]
  },
  {
   "cell_type": "code",
   "execution_count": 58,
   "metadata": {},
   "outputs": [],
   "source": [
    "# Solves system of congruences x = a[i] mod n[i] by Chinese Remainder Theorem\n",
    "\n",
    "def CRT(a, n):\n",
    "    n_prod = math.prod(n)\n",
    "    N = [n_prod // n_i for n_i in n]\n",
    "    M = [pow(n_prod // n_i, -1, n_i) for n_i in n]\n",
    "\n",
    "    return sum([a[i]*M[i]*N[i] for i in range(0, len(a))]) % n_prod\n"
   ]
  },
  {
   "attachments": {},
   "cell_type": "markdown",
   "metadata": {},
   "source": [
    "#### Функції, що генерують усі прості числа до заданого N та розкладу числа на прості множники"
   ]
  },
  {
   "cell_type": "code",
   "execution_count": 59,
   "metadata": {},
   "outputs": [],
   "source": [
    "# Generates all primes from 2 to n\n",
    "def PrimesRange(n):\n",
    "    P = [2]\n",
    "    for a in range(3, n):\n",
    "        if check_prime(a):\n",
    "            P.append(a)\n",
    "    \n",
    "    return P\n",
    "\n",
    "def NextPrime(n):\n",
    "    p = n + 1\n",
    "    while not check_prime(p):\n",
    "        p += 1\n",
    "\n",
    "    return p\n",
    "\n",
    "# Factors n \n",
    "def Factor(n):\n",
    "    F = {}\n",
    "    p_i = 2\n",
    "\n",
    "    while n != 1:\n",
    "        k = 0\n",
    "        while n % (p_i ** (k+1)) == 0:\n",
    "            k += 1\n",
    "\n",
    "        if k > 0:\n",
    "            F[p_i] = k\n",
    "            n = n // (p_i**k)\n",
    "        \n",
    "        p_i = NextPrime(p_i)\n",
    "\n",
    "    if n != 1:\n",
    "        F[n] = 1\n",
    "\n",
    "    return F"
   ]
  },
  {
   "attachments": {},
   "cell_type": "markdown",
   "metadata": {},
   "source": [
    "## Алгоритм Сільвера-Поліга-Гелмана"
   ]
  },
  {
   "cell_type": "code",
   "execution_count": 60,
   "metadata": {},
   "outputs": [
    {
     "name": "stdout",
     "output_type": "stream",
     "text": [
      "{2: 1, 3: 2, 29: 1, 619: 1, 1052179: 1}\n",
      "16879429793\n",
      "True\n"
     ]
    }
   ],
   "source": [
    "# Computes discrete log_a(b) modp by Silver–Pohlig–Hellman algorithm\n",
    "\n",
    "def SPH(a, b, p):\n",
    "    n = p - 1\n",
    "    F = Factor(n)\n",
    "    r_table = {}\n",
    "\n",
    "    for p_i in F.keys():\n",
    "        for j in range(0, p_i):\n",
    "            t = pow(a, (n * j) // p_i, p)\n",
    "            r_table[p_i, t] = j\n",
    "    \n",
    "    Y = []\n",
    "    P = [p_i**l_i for p_i, l_i in F.items()]\n",
    "\n",
    "    for p_i in F.keys():\n",
    "        a_x_modn = 1\n",
    "        x = 0\n",
    "        for j in range(0, F[p_i]):\n",
    "            t = pow(b * pow(a_x_modn, -1, p), n // (p_i ** (j+1)), p)\n",
    "            x_j = r_table[p_i, t]\n",
    "            x += (x_j * (p_i ** j)) % (p_i ** F[p_i])\n",
    "            a_x_modn = (a_x_modn * pow(a, x_j * (p_i ** j), p)) % p\n",
    "        \n",
    "        Y.append(x)\n",
    "    \n",
    "    return CRT(Y, P)\n",
    "\n",
    "a = 123224229494\n",
    "p = 339977974123\n",
    "b = 82766290185\n",
    "print(Factor(p-1))\n",
    "x = SPH(a, b, p)\n",
    "print(x)\n",
    "\n",
    "print(pow(a, x, p) == b)"
   ]
  },
  {
   "attachments": {},
   "cell_type": "markdown",
   "metadata": {},
   "source": [
    "## Порівняння із повним перебором"
   ]
  },
  {
   "attachments": {},
   "cell_type": "markdown",
   "metadata": {},
   "source": [
    "#### Алгоритм, що розв'язує задачу дискретного логарифмування повним перебором"
   ]
  },
  {
   "cell_type": "code",
   "execution_count": 61,
   "metadata": {},
   "outputs": [
    {
     "ename": "KeyboardInterrupt",
     "evalue": "",
     "output_type": "error",
     "traceback": [
      "\u001b[1;31m---------------------------------------------------------------------------\u001b[0m",
      "\u001b[1;31mKeyboardInterrupt\u001b[0m                         Traceback (most recent call last)",
      "Cell \u001b[1;32mIn[61], line 12\u001b[0m\n\u001b[0;32m      8\u001b[0m         x \u001b[39m+\u001b[39m\u001b[39m=\u001b[39m \u001b[39m1\u001b[39m\n\u001b[0;32m     10\u001b[0m     \u001b[39mreturn\u001b[39;00m \u001b[39mfloat\u001b[39m(\u001b[39m'\u001b[39m\u001b[39mnan\u001b[39m\u001b[39m'\u001b[39m)\n\u001b[1;32m---> 12\u001b[0m \u001b[39mprint\u001b[39m(BruteDL(\u001b[39m213457239934409\u001b[39;49m, \u001b[39m256217129498278\u001b[39;49m, \u001b[39m658117300202657\u001b[39;49m))\n",
      "Cell \u001b[1;32mIn[61], line 7\u001b[0m, in \u001b[0;36mBruteDL\u001b[1;34m(a, b, p)\u001b[0m\n\u001b[0;32m      4\u001b[0m \u001b[39mfor\u001b[39;00m i \u001b[39min\u001b[39;00m \u001b[39mrange\u001b[39m(\u001b[39m0\u001b[39m, p):\n\u001b[0;32m      5\u001b[0m     \u001b[39mif\u001b[39;00m ax \u001b[39m==\u001b[39m b: \u001b[39mreturn\u001b[39;00m x\n\u001b[1;32m----> 7\u001b[0m     ax \u001b[39m=\u001b[39m (ax \u001b[39m*\u001b[39;49m a) \u001b[39m%\u001b[39m p\n\u001b[0;32m      8\u001b[0m     x \u001b[39m+\u001b[39m\u001b[39m=\u001b[39m \u001b[39m1\u001b[39m\n\u001b[0;32m     10\u001b[0m \u001b[39mreturn\u001b[39;00m \u001b[39mfloat\u001b[39m(\u001b[39m'\u001b[39m\u001b[39mnan\u001b[39m\u001b[39m'\u001b[39m)\n",
      "\u001b[1;31mKeyboardInterrupt\u001b[0m: "
     ]
    }
   ],
   "source": [
    "def BruteDL(a, b, p):\n",
    "    ax = 1\n",
    "    x = 0\n",
    "    for i in range(0, p):\n",
    "        if ax == b: return x\n",
    "\n",
    "        ax = (ax * a) % p\n",
    "        x += 1\n",
    "\n",
    "    return float('nan')\n",
    "\n",
    "print(BruteDL(213457239934409, 256217129498278, 658117300202657))"
   ]
  }
 ],
 "metadata": {
  "kernelspec": {
   "display_name": "Python 3",
   "language": "python",
   "name": "python3"
  },
  "language_info": {
   "codemirror_mode": {
    "name": "ipython",
    "version": 3
   },
   "file_extension": ".py",
   "mimetype": "text/x-python",
   "name": "python",
   "nbconvert_exporter": "python",
   "pygments_lexer": "ipython3",
   "version": "3.9.13"
  },
  "orig_nbformat": 4
 },
 "nbformat": 4,
 "nbformat_minor": 2
}
