{
 "cells": [
  {
   "cell_type": "code",
   "execution_count": 81,
   "metadata": {},
   "outputs": [],
   "source": [
    "import math\n",
    "import random\n",
    "import numpy as np\n",
    "\n",
    "from factor_module import check_prime"
   ]
  },
  {
   "cell_type": "code",
   "execution_count": 82,
   "metadata": {},
   "outputs": [],
   "source": [
    "# Solves system of congruences x = a[i] mod n[i] by Chinese Remainder Theorem\n",
    "\n",
    "def CRT(a, n):\n",
    "    n_prod = math.prod(n)\n",
    "    N = [n_prod // n_i for n_i in n]\n",
    "    M = [pow(n_prod // n_i, -1, n_i) for n_i in n]\n",
    "\n",
    "    return sum([a[i]*M[i]*N[i] for i in range(0, len(a))]) % n_prod\n"
   ]
  },
  {
   "cell_type": "code",
   "execution_count": 83,
   "metadata": {},
   "outputs": [],
   "source": [
    "def PrimesRange(n):\n",
    "    P = [2]\n",
    "    for a in range(3, n):\n",
    "        if check_prime(a):\n",
    "            P.append(a)\n",
    "    \n",
    "    return P\n",
    "\n",
    "\n",
    "def Factor(n):\n",
    "    F = {}\n",
    "\n",
    "    for p_i in PrimesRange(math.isqrt(n) + 1):\n",
    "        k = 0\n",
    "        while n % (p_i**(k+1)) == 0:\n",
    "            k += 1\n",
    "\n",
    "        if k > 0:\n",
    "            F[p_i] = k\n",
    "            n = n // (p_i**k)\n",
    "\n",
    "    if n != 1:\n",
    "        F[n] = 1\n",
    "\n",
    "    return F"
   ]
  },
  {
   "cell_type": "code",
   "execution_count": 84,
   "metadata": {},
   "outputs": [
    {
     "name": "stdout",
     "output_type": "stream",
     "text": [
      "{2: 2, 3: 1, 83: 1}\n",
      "[1, 2, 9]\n",
      "[4, 3, 83]\n",
      "True\n"
     ]
    }
   ],
   "source": [
    "# Computes discrete log_a(b) modp by Silver–Pohlig–Hellman algorithm\n",
    "\n",
    "def SPH(a, b, p):\n",
    "    n = p - 1\n",
    "    F = Factor(n)\n",
    "    print(F)\n",
    "    r_table = {}\n",
    "\n",
    "    for p_i in F.keys():\n",
    "        for j in range(0, p_i):\n",
    "            t = pow(a, (n * j) // p_i, p)\n",
    "            r_table[p_i, t] = j\n",
    "    \n",
    "    Y = []\n",
    "\n",
    "    for p_i in F.keys():\n",
    "        a_x_modn = 1\n",
    "        x = 0\n",
    "        for j in range(0, F[p_i]):\n",
    "            t = pow(b * pow(a_x_modn, -1, p), n // (p_i ** (j+1)), p)\n",
    "            x_j = r_table[p_i, t]\n",
    "            x += (x_j * (p_i ** j))\n",
    "            a_x_modn = (a_x_modn * pow(a, x_j * (p_i ** j))) % p\n",
    "        \n",
    "        Y.append(x)\n",
    "    \n",
    "    print(Y)\n",
    "    P = [p_i**l_i for p_i, l_i in F.items()]\n",
    "    print(P)\n",
    "    return CRT(Y, P)\n",
    "\n",
    "\n",
    "\n",
    "SPH(8, pow(8, 9, 997), 997)\n",
    "print(pow(8, 9, 997) == pow(8, 341, 997))"
   ]
  }
 ],
 "metadata": {
  "kernelspec": {
   "display_name": "Python 3",
   "language": "python",
   "name": "python3"
  },
  "language_info": {
   "codemirror_mode": {
    "name": "ipython",
    "version": 3
   },
   "file_extension": ".py",
   "mimetype": "text/x-python",
   "name": "python",
   "nbconvert_exporter": "python",
   "pygments_lexer": "ipython3",
   "version": "3.10.11"
  },
  "orig_nbformat": 4
 },
 "nbformat": 4,
 "nbformat_minor": 2
}
