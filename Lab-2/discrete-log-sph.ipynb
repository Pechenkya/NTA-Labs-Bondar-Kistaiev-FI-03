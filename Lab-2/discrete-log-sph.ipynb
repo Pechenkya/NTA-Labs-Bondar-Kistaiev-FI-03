{
 "cells": [
  {
   "attachments": {},
   "cell_type": "markdown",
   "metadata": {},
   "source": [
    "# Лабораторна робота 2 з Теоретико-числових алгоритмів в криптології\n",
    "## Тема: Реалiзацiя та застосування алгоритму дискретного логарифмування **Silver–Pohlig–Hellman**\n",
    "\n",
    "**Виконали:** Бондар Петро, Кістаєв Матвій\\\n",
    "**Група:** ФІ-03\n",
    "\n",
    "### Посилання\n",
    "Github: https://github.com/Pechenkya/NTA-Labs-Bondar-Kistaiev-FI-03/tree/main/Lab-2\n"
   ]
  },
  {
   "cell_type": "code",
   "execution_count": 76,
   "metadata": {},
   "outputs": [],
   "source": [
    "import math\n",
    "\n",
    "from factor_module import check_prime"
   ]
  },
  {
   "attachments": {},
   "cell_type": "markdown",
   "metadata": {},
   "source": [
    "## Допоміжні математичні функції"
   ]
  },
  {
   "attachments": {},
   "cell_type": "markdown",
   "metadata": {},
   "source": [
    "#### Алгоритм розв'язання системи порівнянь по модулю за Китайською Теоремою про Лишки"
   ]
  },
  {
   "cell_type": "code",
   "execution_count": 77,
   "metadata": {},
   "outputs": [],
   "source": [
    "# Solves system of congruences x = a[i] mod n[i] by Chinese Remainder Theorem\n",
    "\n",
    "def CRT(a, n):\n",
    "    n_prod = math.prod(n)\n",
    "    N = [n_prod // n_i for n_i in n]\n",
    "    M = [pow(n_prod // n_i, -1, n_i) for n_i in n]\n",
    "\n",
    "    return sum([a[i]*M[i]*N[i] for i in range(0, len(a))]) % n_prod\n"
   ]
  },
  {
   "attachments": {},
   "cell_type": "markdown",
   "metadata": {},
   "source": [
    "#### Функції, що генерують усі прості числа до заданого N та розкладу числа на прості множники"
   ]
  },
  {
   "cell_type": "code",
   "execution_count": 78,
   "metadata": {},
   "outputs": [],
   "source": [
    "# Generates all primes from 2 to n\n",
    "def PrimesRange(n):\n",
    "    P = [2]\n",
    "    for a in range(3, n):\n",
    "        if check_prime(a):\n",
    "            P.append(a)\n",
    "    \n",
    "    return P\n",
    "\n",
    "def NextPrime(n):\n",
    "    p = n + 1\n",
    "    while not check_prime(p):\n",
    "        p += 1\n",
    "\n",
    "    return p\n",
    "\n",
    "# Factors n \n",
    "def Factor(n):\n",
    "    F = {}\n",
    "    p_i = 2\n",
    "\n",
    "    while n != 1:\n",
    "        k = 0\n",
    "        while n % (p_i ** (k+1)) == 0:\n",
    "            k += 1\n",
    "\n",
    "        if k > 0:\n",
    "            F[p_i] = k\n",
    "            n = n // (p_i**k)\n",
    "        \n",
    "        p_i = NextPrime(p_i)\n",
    "\n",
    "    if n != 1:\n",
    "        F[n] = 1\n",
    "\n",
    "    return F"
   ]
  },
  {
   "attachments": {},
   "cell_type": "markdown",
   "metadata": {},
   "source": [
    "## Алгоритм Сільвера-Поліга-Гелмана"
   ]
  },
  {
   "cell_type": "code",
   "execution_count": 79,
   "metadata": {},
   "outputs": [
    {
     "name": "stdout",
     "output_type": "stream",
     "text": [
      "{2: 1, 157: 1, 149159: 1}\n",
      "36750957\n",
      "True\n"
     ]
    }
   ],
   "source": [
    "# Computes discrete log_a(b) modp by Silver–Pohlig–Hellman algorithm\n",
    "\n",
    "def SPH(a, b, p):\n",
    "    n = p - 1\n",
    "    F = Factor(n)\n",
    "    r_table = {}\n",
    "\n",
    "    for p_i in F.keys():\n",
    "        for j in range(0, p_i):\n",
    "            t = pow(a, (n * j) // p_i, p)\n",
    "            r_table[p_i, t] = j\n",
    "    \n",
    "    Y = []\n",
    "    P = [p_i**l_i for p_i, l_i in F.items()]\n",
    "\n",
    "    for p_i in F.keys():\n",
    "        a_x_modn = 1\n",
    "        x = 0\n",
    "        for j in range(0, F[p_i]):\n",
    "            t = pow(b * pow(a_x_modn, -1, p), n // (p_i ** (j+1)), p)\n",
    "            x_j = r_table[p_i, t]\n",
    "            x += (x_j * (p_i ** j)) % (p_i ** F[p_i])\n",
    "            a_x_modn = (a_x_modn * pow(a, x_j * (p_i ** j), p)) % p\n",
    "        \n",
    "        Y.append(x)\n",
    "    \n",
    "    return CRT(Y, P)\n",
    "\n",
    "a = 40339922\n",
    "p = 46835927\n",
    "b = 8665466\n",
    "print(Factor(p-1))\n",
    "x = SPH(a, b, p)\n",
    "print(x)\n",
    "\n",
    "print(pow(a, x, p) == b)"
   ]
  },
  {
   "attachments": {},
   "cell_type": "markdown",
   "metadata": {},
   "source": [
    "## Порівняння із повним перебором"
   ]
  },
  {
   "attachments": {},
   "cell_type": "markdown",
   "metadata": {},
   "source": [
    "#### Алгоритм, що розв'язує задачу дискретного логарифмування повним перебором"
   ]
  },
  {
   "cell_type": "code",
   "execution_count": 80,
   "metadata": {},
   "outputs": [
    {
     "name": "stdout",
     "output_type": "stream",
     "text": [
      "36750957\n"
     ]
    }
   ],
   "source": [
    "def BruteDL(a, b, p):\n",
    "    ax = 1\n",
    "    x = 0\n",
    "    for i in range(0, p):\n",
    "        if ax == b: return x\n",
    "\n",
    "        ax = (ax * a) % p\n",
    "        x += 1\n",
    "\n",
    "    return float('nan')\n",
    "\n",
    "print(BruteDL(a, b, p))"
   ]
  },
  {
   "attachments": {},
   "cell_type": "markdown",
   "metadata": {},
   "source": [
    "### Заміри часу виконання і порівняння з рішенням з другої лабораторної роботи\n",
    "\n",
    "$$ \\begin{array}{|c|c|r|r|r|r|c|c|c|}\n",
    "    \\hline № & \\text{Test Level} & \\alpha & \\beta & \\mod & \\text{Solution} & \\text{SPH time (sec)} & \\text{Index-Calculus time (sec)} & \\text{Bruteforce (sec)}\\\\\n",
    "    \\hline 1 & 3\\;(1) & 405 & 162 & 863 & 602 & 0.0046                      & 0.0040 & 0.0000\\\\\n",
    "    \\hline 2 & 3\\;(2) & 91 & 54 & 983 & 490 &  0.0045                        & 0.0036& 0.0000\\\\\n",
    "    \\hline 3 & 4\\;(1) & 1735 & 3267 & 5443 & 2877   & 0.0090                 & 0.0062& 0.0000\\\\\n",
    "    \\hline 4 & 4\\;(2) & 5606 & 766 & 5807 & 5787 & 0.0338                    & 0.0050& 0.0000\\\\\n",
    "    \\hline 5 & 5\\;(1) & 53100 & 16911 & 64567 & 47387   & 0.0020             & 0.0159& 0.0030\\\\\n",
    "    \\hline 6 & 5\\;(2) & 236 & 21489 & 32069 & 25264 & 0.0730                 & 0.0095& 0.0020\\\\\n",
    "    \\hline 7 & 6\\;(1) & 324217 & 96569 & 397519 & 292529 & 0.0025            & 0.0251& 0.0217\\\\\n",
    "    \\hline 8 & 6\\;(2) & 341681 & 719645 & 933397 & 360413 & 0.7903           & 0.0306& 0.0266\\\\\n",
    "    \\hline 9 & 7\\;(1) & 416859 & 811893 & 1100641 & 849195 & 0.0216          & 0.0491& 0.0600\\\\\n",
    "    \\hline 10 & 7\\;(2) & 698063 & 1842530 & 4948849 & 4639227 & 0.3340       & 0.0502& 0.3651\\\\\n",
    "    \\hline 11 & 8\\;(1) & 10329729 & 5996667 & 12879569 & 3681443 & 0.0319    & 0.0643& 0.2640\\\\\n",
    "    \\hline 12 & 8\\;(2) & 40339922 & 8665466 & 46835927 & 36750957 & 1.6040   & 0.1106& 2.6295\\\\\n",
    "    \\hline 13 & 9\\;(1) & 133831429 & 394869515 & 603047449 & 575130035 & 0.0110 & 0.3050& 42.387\\\\\n",
    "    \\hline 14 & 9\\;(2) & 105885086 & 242684147 & 281243987 & 116787747 & 0.1408 & 0.2262& 8.6493\\\\\n",
    "    \\hline 15 & 10\\;(1) & 3254326800 & 5738480278 & 6821486569 & 5425105225 & 0.1868                        & 0.8527& -\\\\\n",
    "    \\hline 16 & 10\\;(2) & 2503970251 & 4616555134 & 7687535143 & 3612269744 & 0.7432                        & 0.8898&-\\\\\n",
    "    \\hline 17 & 11\\;(1) & 15755281373 & 2216307038 & 27834916511 & 3740804930 & 0.0680                      & 1.3528&-\\\\\n",
    "    \\hline 18 & 11\\;(2) & 22853910777 & 25817503193 & 28791230497 & 21096709669 &  -                         & 1.4848&-\\\\\n",
    "    \\hline 19 & 12\\;(1) & 507709796487 & 765316699585 & 808811929619 & 454007131294 & 0.0195                     & 5.8950&-\\\\\n",
    "    \\hline 20 & 12\\;(2) & 103462240942 & 347520779949 & 423107943311 & 104026002582 & 0.8080                     & 4.9429&-\\\\\n",
    "    \\hline 21 & 13\\;(1) & 575769640533 & 1587103349320 & 2679503891797 & 2508924257003 & 0.2689                  & 11.157&-\\\\\n",
    "    \\hline 22 & 13\\;(2) & 5193719065806 & 433642518389 & 5200738710043 & 3299582449828 & -                  & 12.986&-\\\\\n",
    "    \\hline 23 & 14\\;(1) & 69729143465395 & 51717474377131 & 81827408544181 & 70597713698775 & 0.1735             & 36.710&-\\\\\n",
    "    \\hline 24 & 14\\;(2) & 9342677045103 & 5678740808699 & 34191150382817 & 26463769397737 & -               & 26.645&-\\\\\n",
    "    \\hline 25 & 15\\;(1) & 58035538961226 & 84400445924237 & 124360974085129 & 13651448394237 & 0.2443            & 48.763&-\\\\\n",
    "    \\hline 26 & 15\\;(2) & 137042521277099 & 481703362714446 & 648235951112423 & 266893171218140 & -         & 85.634&-\\\\\n",
    "    \\hline 27 & 16\\;(1) & 1646807569044576 & 1357634646373857 & 2292878607986357 & 547317542238434 & 0.0864      & 152.45&-\\\\\n",
    "    \\hline 28 & 16\\;(2) & 783529233531527 & 1339896166988741 & 1486639524290603 & 318864505892145 & -       & 129.01&-\\\\\n",
    "    \\hline\n",
    "\\end{array}$$\n",
    "\n",
    "Числа довжини 17 і більше дуууже довго генеруються допоміжною програмою :)"
   ]
  },
  {
   "attachments": {},
   "cell_type": "markdown",
   "metadata": {},
   "source": [
    "#### Графіки (Кількість цифр - Час роботи)\n",
    "\n",
    "![pic1](../Images/small.png \"Title\")\n",
    "\n",
    "![pic1](../Images/big.png \"Title\")"
   ]
  }
 ],
 "metadata": {
  "kernelspec": {
   "display_name": "Python 3",
   "language": "python",
   "name": "python3"
  },
  "language_info": {
   "codemirror_mode": {
    "name": "ipython",
    "version": 3
   },
   "file_extension": ".py",
   "mimetype": "text/x-python",
   "name": "python",
   "nbconvert_exporter": "python",
   "pygments_lexer": "ipython3",
   "version": "3.10.11"
  },
  "orig_nbformat": 4
 },
 "nbformat": 4,
 "nbformat_minor": 2
}
